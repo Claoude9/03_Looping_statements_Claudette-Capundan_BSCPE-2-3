{
 "cells": [
  {
   "cell_type": "markdown",
   "id": "5681be1b-ee29-4a1c-a5c1-2b30b9620208",
   "metadata": {},
   "source": [
    "Lab 2- Exercises"
   ]
  },
  {
   "cell_type": "markdown",
   "id": "0b147440-cc21-45d7-87fe-ddc7c6c358f6",
   "metadata": {},
   "source": [
    "## Lab 2: Exercise 1\n",
    "#### A teacher named Mrs. Rivera who loved making math fun for her students. One day, a student named Mia asked how to calculate powers, like (2^7). Mrs. Rivera explained, “Imagine you need to multiply 2 by itself seven times. We can solve this using a python code utilizing  special method called recursion to solve this,” \n",
    "#### Can you help the class of Mrs. Rivera by providing the recursive method to calculate powers?"
   ]
  },
  {
   "cell_type": "code",
   "execution_count": 1,
   "id": "9c028196-fc4e-4a00-b2ac-4090c27949ea",
   "metadata": {
    "scrolled": true
   },
   "outputs": [
    {
     "name": "stdin",
     "output_type": "stream",
     "text": [
      "Enter the base:  2\n",
      "Enter the exponent:  7\n"
     ]
    },
    {
     "name": "stdout",
     "output_type": "stream",
     "text": [
      "\n",
      "Answer:\n",
      "2^7 = 128\n"
     ]
    }
   ],
   "source": [
    "def power(base, exponent):\n",
    "    if exponent == 0:\n",
    "        return 1\n",
    "    else:\n",
    "        return base * power(base, exponent - 1)\n",
    "\n",
    "base = int(input(\"Enter the base: \"))\n",
    "exponent = int(input(\"Enter the exponent: \"))\n",
    "\n",
    "result = power(base, exponent)\n",
    "\n",
    "print(\"\\nAnswer:\")\n",
    "print(f\"{base}^{exponent} = {result}\")\n"
   ]
  },
  {
   "cell_type": "markdown",
   "id": "683554e1-71a8-4b9e-87c6-177421da691a",
   "metadata": {},
   "source": [
    "## Lab 2: Exercise 2\n",
    "#### Compute for the cube of integers."
   ]
  },
  {
   "cell_type": "code",
   "execution_count": 2,
   "id": "b96a060c-af93-4724-8911-330219484198",
   "metadata": {},
   "outputs": [
    {
     "name": "stdin",
     "output_type": "stream",
     "text": [
      "Enter the size of the array:  3\n",
      "Enter the elements separated by space:  3 10 20\n"
     ]
    },
    {
     "name": "stdout",
     "output_type": "stream",
     "text": [
      "\n",
      "Cube of each elements:\n",
      "27\n",
      "1000\n",
      "8000\n"
     ]
    }
   ],
   "source": [
    "size = int(input(\"Enter the size of the array: \"))\n",
    "\n",
    "elements = input(\"Enter the elements separated by space: \").split()\n",
    "\n",
    "for i in range(size):\n",
    "    elements[i] = int(elements[i])\n",
    "\n",
    "print(\"\\nCube of each elements:\")\n",
    "for element in elements:\n",
    "    cube = element ** 3  \n",
    "    print(cube)\n"
   ]
  },
  {
   "cell_type": "markdown",
   "id": "af03d53b-238d-472e-9650-300c0d378add",
   "metadata": {},
   "source": [
    "## Lab 2: Exercise 3\n",
    "#### Generate a hollow square based on the + integer input side length, n."
   ]
  },
  {
   "cell_type": "code",
   "execution_count": 5,
   "id": "60cb1ff1-20db-4c24-9b00-589be2f7a24e",
   "metadata": {
    "scrolled": true
   },
   "outputs": [
    {
     "name": "stdin",
     "output_type": "stream",
     "text": [
      "Enter the side length of the square:  6\n"
     ]
    },
    {
     "name": "stdout",
     "output_type": "stream",
     "text": [
      "******\n",
      "*    *\n",
      "*    *\n",
      "*    *\n",
      "*    *\n",
      "******\n"
     ]
    }
   ],
   "source": [
    "n = int(input(\"Enter the side length of the square: \"))\n",
    "\n",
    "for i in range(n):\n",
    "    if i == 0 or i == n-1:\n",
    "        print('*' * n)\n",
    "    else:\n",
    "        print('*' + ' ' * (n-2) + '*')\n"
   ]
  },
  {
   "cell_type": "markdown",
   "id": "2fde96eb-a272-4bbd-bf69-b729da51b8ae",
   "metadata": {},
   "source": [
    "## Lab 2: Exercise 4\n",
    "#### Generate an inverted right triangle of height, n."
   ]
  },
  {
   "cell_type": "code",
   "execution_count": 6,
   "id": "7a93aada-1995-4465-b116-7aeb53f2615c",
   "metadata": {},
   "outputs": [
    {
     "name": "stdin",
     "output_type": "stream",
     "text": [
      "Enter the height of the triangle:  6\n"
     ]
    },
    {
     "name": "stdout",
     "output_type": "stream",
     "text": [
      "******\n",
      "*****\n",
      "****\n",
      "***\n",
      "**\n",
      "*\n"
     ]
    }
   ],
   "source": [
    "n = int(input(\"Enter the height of the triangle: \"))\n",
    "\n",
    "for i in range(n, 0, -1):\n",
    "    print('*' * i)\n"
   ]
  },
  {
   "cell_type": "code",
   "execution_count": null,
   "id": "31a566f5-d2f4-48a8-84ab-98a4c34c3ff7",
   "metadata": {},
   "outputs": [],
   "source": []
  }
 ],
 "metadata": {
  "kernelspec": {
   "display_name": "Python 3 (ipykernel)",
   "language": "python",
   "name": "python3"
  },
  "language_info": {
   "codemirror_mode": {
    "name": "ipython",
    "version": 3
   },
   "file_extension": ".py",
   "mimetype": "text/x-python",
   "name": "python",
   "nbconvert_exporter": "python",
   "pygments_lexer": "ipython3",
   "version": "3.11.4"
  }
 },
 "nbformat": 4,
 "nbformat_minor": 5
}
